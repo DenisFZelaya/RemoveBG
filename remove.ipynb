{
 "cells": [
  {
   "cell_type": "markdown",
   "metadata": {},
   "source": [
    "# test"
   ]
  },
  {
   "cell_type": "code",
   "execution_count": 1,
   "metadata": {},
   "outputs": [
    {
     "name": "stdout",
     "output_type": "stream",
     "text": [
      "Collecting rembg\n",
      "  Obtaining dependency information for rembg from https://files.pythonhosted.org/packages/85/a9/fbb32cb436815a07b0e066503e42a9a259025843f825cb08d9abcc7ae228/rembg-2.0.56-py3-none-any.whl.metadata\n",
      "  Downloading rembg-2.0.56-py3-none-any.whl.metadata (15 kB)\n",
      "Requirement already satisfied: jsonschema in c:\\users\\denis-zelaya\\anaconda3\\lib\\site-packages (from rembg) (4.17.3)\n",
      "Requirement already satisfied: numpy in c:\\users\\denis-zelaya\\anaconda3\\lib\\site-packages (from rembg) (1.24.3)\n",
      "Collecting onnxruntime (from rembg)\n",
      "  Obtaining dependency information for onnxruntime from https://files.pythonhosted.org/packages/ba/2b/6c91bb0faab247f4e7c2c19066a0465489c46502509d71b4bca748d69d25/onnxruntime-1.18.0-cp311-cp311-win_amd64.whl.metadata\n",
      "  Downloading onnxruntime-1.18.0-cp311-cp311-win_amd64.whl.metadata (4.4 kB)\n",
      "Requirement already satisfied: opencv-python-headless in c:\\users\\denis-zelaya\\appdata\\roaming\\python\\python311\\site-packages (from rembg) (4.9.0.80)\n",
      "Requirement already satisfied: pillow in c:\\users\\denis-zelaya\\anaconda3\\lib\\site-packages (from rembg) (9.4.0)\n",
      "Collecting pooch (from rembg)\n",
      "  Obtaining dependency information for pooch from https://files.pythonhosted.org/packages/f4/72/8ae0f1ba4ce6a4f6d4d01a60a9fdf690fde188c45c1872b0b4ddb0607ace/pooch-1.8.1-py3-none-any.whl.metadata\n",
      "  Downloading pooch-1.8.1-py3-none-any.whl.metadata (9.5 kB)\n",
      "Collecting pymatting (from rembg)\n",
      "  Obtaining dependency information for pymatting from https://files.pythonhosted.org/packages/46/aa/d7ff530c33c654263d8775ceb50a73f636fc65edbdf09e102c47a3be391b/PyMatting-1.1.12-py3-none-any.whl.metadata\n",
      "  Downloading PyMatting-1.1.12-py3-none-any.whl.metadata (7.4 kB)\n",
      "Requirement already satisfied: scikit-image in c:\\users\\denis-zelaya\\anaconda3\\lib\\site-packages (from rembg) (0.20.0)\n",
      "Requirement already satisfied: scipy in c:\\users\\denis-zelaya\\anaconda3\\lib\\site-packages (from rembg) (1.11.1)\n",
      "Requirement already satisfied: tqdm in c:\\users\\denis-zelaya\\anaconda3\\lib\\site-packages (from rembg) (4.65.0)\n",
      "Requirement already satisfied: attrs>=17.4.0 in c:\\users\\denis-zelaya\\anaconda3\\lib\\site-packages (from jsonschema->rembg) (22.1.0)\n",
      "Requirement already satisfied: pyrsistent!=0.17.0,!=0.17.1,!=0.17.2,>=0.14.0 in c:\\users\\denis-zelaya\\anaconda3\\lib\\site-packages (from jsonschema->rembg) (0.18.0)\n",
      "Collecting coloredlogs (from onnxruntime->rembg)\n",
      "  Obtaining dependency information for coloredlogs from https://files.pythonhosted.org/packages/a7/06/3d6badcf13db419e25b07041d9c7b4a2c331d3f4e7134445ec5df57714cd/coloredlogs-15.0.1-py2.py3-none-any.whl.metadata\n",
      "  Downloading coloredlogs-15.0.1-py2.py3-none-any.whl.metadata (12 kB)\n",
      "Collecting flatbuffers (from onnxruntime->rembg)\n",
      "  Obtaining dependency information for flatbuffers from https://files.pythonhosted.org/packages/41/f0/7e988a019bc54b2dbd0ad4182ef2d53488bb02e58694cd79d61369e85900/flatbuffers-24.3.25-py2.py3-none-any.whl.metadata\n",
      "  Downloading flatbuffers-24.3.25-py2.py3-none-any.whl.metadata (850 bytes)\n",
      "Requirement already satisfied: packaging in c:\\users\\denis-zelaya\\appdata\\roaming\\python\\python311\\site-packages (from onnxruntime->rembg) (23.2)\n",
      "Collecting protobuf (from onnxruntime->rembg)\n",
      "  Obtaining dependency information for protobuf from https://files.pythonhosted.org/packages/8d/83/d70cb6fedb1f38318af01f0035f2103732630af0ca323c0198122b49323b/protobuf-5.26.1-cp310-abi3-win_amd64.whl.metadata\n",
      "  Downloading protobuf-5.26.1-cp310-abi3-win_amd64.whl.metadata (592 bytes)\n",
      "Requirement already satisfied: sympy in c:\\users\\denis-zelaya\\anaconda3\\lib\\site-packages (from onnxruntime->rembg) (1.11.1)\n",
      "Requirement already satisfied: platformdirs>=2.5.0 in c:\\users\\denis-zelaya\\appdata\\roaming\\python\\python311\\site-packages (from pooch->rembg) (4.1.0)\n",
      "Requirement already satisfied: requests>=2.19.0 in c:\\users\\denis-zelaya\\anaconda3\\lib\\site-packages (from pooch->rembg) (2.31.0)\n",
      "Requirement already satisfied: numba!=0.49.0 in c:\\users\\denis-zelaya\\anaconda3\\lib\\site-packages (from pymatting->rembg) (0.57.1)\n",
      "Requirement already satisfied: networkx>=2.8 in c:\\users\\denis-zelaya\\anaconda3\\lib\\site-packages (from scikit-image->rembg) (3.1)\n",
      "Requirement already satisfied: imageio>=2.4.1 in c:\\users\\denis-zelaya\\anaconda3\\lib\\site-packages (from scikit-image->rembg) (2.26.0)\n",
      "Requirement already satisfied: tifffile>=2019.7.26 in c:\\users\\denis-zelaya\\anaconda3\\lib\\site-packages (from scikit-image->rembg) (2023.4.12)\n",
      "Requirement already satisfied: PyWavelets>=1.1.1 in c:\\users\\denis-zelaya\\anaconda3\\lib\\site-packages (from scikit-image->rembg) (1.4.1)\n",
      "Requirement already satisfied: lazy_loader>=0.1 in c:\\users\\denis-zelaya\\anaconda3\\lib\\site-packages (from scikit-image->rembg) (0.2)\n",
      "Requirement already satisfied: colorama in c:\\users\\denis-zelaya\\appdata\\roaming\\python\\python311\\site-packages (from tqdm->rembg) (0.4.6)\n",
      "Requirement already satisfied: llvmlite<0.41,>=0.40.0dev0 in c:\\users\\denis-zelaya\\anaconda3\\lib\\site-packages (from numba!=0.49.0->pymatting->rembg) (0.40.0)\n",
      "Requirement already satisfied: charset-normalizer<4,>=2 in c:\\users\\denis-zelaya\\anaconda3\\lib\\site-packages (from requests>=2.19.0->pooch->rembg) (2.0.4)\n",
      "Requirement already satisfied: idna<4,>=2.5 in c:\\users\\denis-zelaya\\anaconda3\\lib\\site-packages (from requests>=2.19.0->pooch->rembg) (3.4)\n",
      "Requirement already satisfied: urllib3<3,>=1.21.1 in c:\\users\\denis-zelaya\\anaconda3\\lib\\site-packages (from requests>=2.19.0->pooch->rembg) (1.26.16)\n",
      "Requirement already satisfied: certifi>=2017.4.17 in c:\\users\\denis-zelaya\\anaconda3\\lib\\site-packages (from requests>=2.19.0->pooch->rembg) (2023.7.22)\n",
      "Collecting humanfriendly>=9.1 (from coloredlogs->onnxruntime->rembg)\n",
      "  Obtaining dependency information for humanfriendly>=9.1 from https://files.pythonhosted.org/packages/f0/0f/310fb31e39e2d734ccaa2c0fb981ee41f7bd5056ce9bc29b2248bd569169/humanfriendly-10.0-py2.py3-none-any.whl.metadata\n",
      "  Downloading humanfriendly-10.0-py2.py3-none-any.whl.metadata (9.2 kB)\n",
      "Requirement already satisfied: mpmath>=0.19 in c:\\users\\denis-zelaya\\anaconda3\\lib\\site-packages (from sympy->onnxruntime->rembg) (1.3.0)\n",
      "Collecting pyreadline3 (from humanfriendly>=9.1->coloredlogs->onnxruntime->rembg)\n",
      "  Obtaining dependency information for pyreadline3 from https://files.pythonhosted.org/packages/56/fc/a3c13ded7b3057680c8ae95a9b6cc83e63657c38e0005c400a5d018a33a7/pyreadline3-3.4.1-py3-none-any.whl.metadata\n",
      "  Downloading pyreadline3-3.4.1-py3-none-any.whl.metadata (2.0 kB)\n",
      "Downloading rembg-2.0.56-py3-none-any.whl (32 kB)\n",
      "Downloading onnxruntime-1.18.0-cp311-cp311-win_amd64.whl (5.6 MB)\n",
      "   ---------------------------------------- 0.0/5.6 MB ? eta -:--:--\n",
      "   ---------------------------------------- 0.1/5.6 MB 3.4 MB/s eta 0:00:02\n",
      "   - -------------------------------------- 0.2/5.6 MB 2.4 MB/s eta 0:00:03\n",
      "   -- ------------------------------------- 0.3/5.6 MB 2.0 MB/s eta 0:00:03\n",
      "   --- ------------------------------------ 0.5/5.6 MB 2.8 MB/s eta 0:00:02\n",
      "   ----- ---------------------------------- 0.8/5.6 MB 3.4 MB/s eta 0:00:02\n",
      "   -------- ------------------------------- 1.1/5.6 MB 4.3 MB/s eta 0:00:02\n",
      "   ---------- ----------------------------- 1.4/5.6 MB 4.8 MB/s eta 0:00:01\n",
      "   -------------- ------------------------- 2.0/5.6 MB 5.6 MB/s eta 0:00:01\n",
      "   ---------------- ----------------------- 2.3/5.6 MB 5.5 MB/s eta 0:00:01\n",
      "   ------------------ --------------------- 2.6/5.6 MB 5.8 MB/s eta 0:00:01\n",
      "   --------------------- ------------------ 3.0/5.6 MB 6.0 MB/s eta 0:00:01\n",
      "   ------------------------ --------------- 3.4/5.6 MB 6.2 MB/s eta 0:00:01\n",
      "   --------------------------- ------------ 3.8/5.6 MB 6.5 MB/s eta 0:00:01\n",
      "   ----------------------------- ---------- 4.2/5.6 MB 6.7 MB/s eta 0:00:01\n",
      "   -------------------------------- ------- 4.6/5.6 MB 6.7 MB/s eta 0:00:01\n",
      "   ----------------------------------- ---- 5.0/5.6 MB 7.0 MB/s eta 0:00:01\n",
      "   ---------------------------------------  5.5/5.6 MB 7.2 MB/s eta 0:00:01\n",
      "   ---------------------------------------- 5.6/5.6 MB 6.9 MB/s eta 0:00:00\n",
      "Downloading pooch-1.8.1-py3-none-any.whl (62 kB)\n",
      "   ---------------------------------------- 0.0/63.0 kB ? eta -:--:--\n",
      "   ---------------------------------------- 63.0/63.0 kB ? eta 0:00:00\n",
      "Downloading PyMatting-1.1.12-py3-none-any.whl (52 kB)\n",
      "   ---------------------------------------- 0.0/53.0 kB ? eta -:--:--\n",
      "   ---------------------------------------- 53.0/53.0 kB 2.7 MB/s eta 0:00:00\n",
      "Downloading coloredlogs-15.0.1-py2.py3-none-any.whl (46 kB)\n",
      "   ---------------------------------------- 0.0/46.0 kB ? eta -:--:--\n",
      "   ---------------------------------------- 46.0/46.0 kB 2.2 MB/s eta 0:00:00\n",
      "Downloading flatbuffers-24.3.25-py2.py3-none-any.whl (26 kB)\n",
      "Downloading protobuf-5.26.1-cp310-abi3-win_amd64.whl (420 kB)\n",
      "   ---------------------------------------- 0.0/420.9 kB ? eta -:--:--\n",
      "   ---------------------------------------- 420.9/420.9 kB 8.7 MB/s eta 0:00:00\n",
      "Downloading humanfriendly-10.0-py2.py3-none-any.whl (86 kB)\n",
      "   ---------------------------------------- 0.0/86.8 kB ? eta -:--:--\n",
      "   ---------------------------------------- 86.8/86.8 kB 4.8 MB/s eta 0:00:00\n",
      "Downloading pyreadline3-3.4.1-py3-none-any.whl (95 kB)\n",
      "   ---------------------------------------- 0.0/95.2 kB ? eta -:--:--\n",
      "   ---------------------------------------- 95.2/95.2 kB ? eta 0:00:00\n",
      "Installing collected packages: pyreadline3, flatbuffers, protobuf, humanfriendly, pymatting, pooch, coloredlogs, onnxruntime, rembg\n",
      "Successfully installed coloredlogs-15.0.1 flatbuffers-24.3.25 humanfriendly-10.0 onnxruntime-1.18.0 pooch-1.8.1 protobuf-5.26.1 pymatting-1.1.12 pyreadline3-3.4.1 rembg-2.0.56\n"
     ]
    }
   ],
   "source": [
    "!pip install rembg"
   ]
  },
  {
   "cell_type": "code",
   "execution_count": 2,
   "metadata": {},
   "outputs": [
    {
     "name": "stderr",
     "output_type": "stream",
     "text": [
      "Downloading data from 'https://github.com/danielgatis/rembg/releases/download/v0.0.0/u2net.onnx' to file 'C:\\Users\\denis-zelaya\\.u2net\\u2net.onnx'.\n",
      "100%|#######################################| 176M/176M [00:00<00:00, 87.7GB/s]\n"
     ]
    }
   ],
   "source": [
    "from rembg import remove\n",
    "from PIL import Image\n",
    "input_path = \"img.jpg\"\n",
    "output_path = \"test.png\"\n",
    "\n",
    "input = Image.open(input_path)\n",
    "output = remove(input)\n",
    "output.save(output_path)"
   ]
  }
 ],
 "metadata": {
  "kernelspec": {
   "display_name": "Python 3",
   "language": "python",
   "name": "python3"
  },
  "language_info": {
   "codemirror_mode": {
    "name": "ipython",
    "version": 3
   },
   "file_extension": ".py",
   "mimetype": "text/x-python",
   "name": "python",
   "nbconvert_exporter": "python",
   "pygments_lexer": "ipython3",
   "version": "3.11.5"
  }
 },
 "nbformat": 4,
 "nbformat_minor": 2
}
